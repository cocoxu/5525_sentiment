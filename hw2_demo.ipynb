{
 "cells": [
  {
   "cell_type": "code",
   "execution_count": 2,
   "metadata": {},
   "outputs": [],
   "source": [
    "import imdb"
   ]
  },
  {
   "cell_type": "code",
   "execution_count": 3,
   "metadata": {
    "collapsed": true
   },
   "outputs": [],
   "source": [
    "import numpy as np"
   ]
  },
  {
   "cell_type": "code",
   "execution_count": 5,
   "metadata": {},
   "outputs": [
    {
     "name": "stdout",
     "output_type": "stream",
     "text": [
      "CPU times: user 20.9 s, sys: 1.61 s, total: 22.5 s\n",
      "Wall time: 26 s\n"
     ]
    }
   ],
   "source": [
    "%time train = imdb.IMDBdata(\"aclImdb_small/train\")"
   ]
  },
  {
   "cell_type": "code",
   "execution_count": 31,
   "metadata": {},
   "outputs": [
    {
     "name": "stdout",
     "output_type": "stream",
     "text": [
      "58162\n"
     ]
    }
   ],
   "source": [
    "print(len(train.vocab.GetWords()))"
   ]
  },
  {
   "cell_type": "code",
   "execution_count": 32,
   "metadata": {},
   "outputs": [
    {
     "name": "stdout",
     "output_type": "stream",
     "text": [
      "[ 0.74795864  0.3652866   0.93259164 ...,  0.19210757  0.35961315\n",
      "  0.78308187]\n"
     ]
    }
   ],
   "source": [
    "w = np.random.random(train.X.shape[1])\n",
    "print(w)"
   ]
  },
  {
   "cell_type": "code",
   "execution_count": 33,
   "metadata": {},
   "outputs": [
    {
     "data": {
      "text/plain": [
       "(7222, 58162)"
      ]
     },
     "execution_count": 33,
     "metadata": {},
     "output_type": "execute_result"
    }
   ],
   "source": [
    "train.X.shape"
   ]
  },
  {
   "cell_type": "code",
   "execution_count": 38,
   "metadata": {},
   "outputs": [
    {
     "name": "stdout",
     "output_type": "stream",
     "text": [
      "  (0, 40868)\t1\n",
      "  (0, 40867)\t1\n",
      "  (0, 40866)\t1\n",
      "  (0, 40865)\t1\n",
      "  (0, 40864)\t1\n",
      "  (0, 40863)\t1\n",
      "  (0, 40862)\t1\n",
      "  (0, 40861)\t1\n",
      "  (0, 40860)\t1\n",
      "  (0, 40859)\t1\n",
      "  (0, 40858)\t1\n",
      "  (0, 40857)\t1\n",
      "  (0, 40856)\t1\n",
      "  (0, 40855)\t2\n",
      "  (0, 40854)\t1\n",
      "  (0, 40853)\t1\n",
      "  (0, 40852)\t1\n",
      "  (0, 40851)\t1\n",
      "  (0, 40850)\t1\n",
      "  (0, 40849)\t2\n",
      "  (0, 40848)\t1\n",
      "  (0, 40847)\t1\n",
      "  (0, 40846)\t1\n",
      "  (0, 40845)\t1\n",
      "  (0, 40844)\t1\n",
      "  :\t:\n",
      "  (0, 82)\t7\n",
      "  (0, 75)\t18\n",
      "  (0, 72)\t1\n",
      "  (0, 68)\t4\n",
      "  (0, 60)\t1\n",
      "  (0, 50)\t14\n",
      "  (0, 48)\t1\n",
      "  (0, 46)\t4\n",
      "  (0, 43)\t1\n",
      "  (0, 40)\t32\n",
      "  (0, 36)\t7\n",
      "  (0, 35)\t3\n",
      "  (0, 33)\t15\n",
      "  (0, 31)\t12\n",
      "  (0, 30)\t5\n",
      "  (0, 23)\t15\n",
      "  (0, 22)\t2\n",
      "  (0, 21)\t8\n",
      "  (0, 20)\t3\n",
      "  (0, 17)\t1\n",
      "  (0, 16)\t12\n",
      "  (0, 14)\t16\n",
      "  (0, 12)\t8\n",
      "  (0, 9)\t2\n",
      "  (0, 4)\t5\n"
     ]
    }
   ],
   "source": [
    "print(train.X[0,:])"
   ]
  },
  {
   "cell_type": "code",
   "execution_count": 39,
   "metadata": {},
   "outputs": [
    {
     "name": "stdout",
     "output_type": "stream",
     "text": [
      ".\n"
     ]
    }
   ],
   "source": [
    "print(train.vocab.GetWord(75))"
   ]
  },
  {
   "cell_type": "code",
   "execution_count": 40,
   "metadata": {},
   "outputs": [
    {
     "name": "stdout",
     "output_type": "stream",
     "text": [
      "CPU times: user 433 µs, sys: 97 µs, total: 530 µs\n",
      "Wall time: 457 µs\n"
     ]
    },
    {
     "data": {
      "text/plain": [
       "array([ 299.08906488])"
      ]
     },
     "execution_count": 40,
     "metadata": {},
     "output_type": "execute_result"
    }
   ],
   "source": [
    "%%time\n",
    "train.X[0,:].dot(w)"
   ]
  },
  {
   "cell_type": "code",
   "execution_count": 41,
   "metadata": {},
   "outputs": [
    {
     "name": "stdout",
     "output_type": "stream",
     "text": [
      "299.089064884\n",
      "CPU times: user 1.99 s, sys: 18.3 ms, total: 2.01 s\n",
      "Wall time: 2.05 s\n"
     ]
    }
   ],
   "source": [
    "%%time\n",
    "sum = 0\n",
    "for i in range(train.X.shape[1]):\n",
    "    sum += train.X[0,i] * w[i]\n",
    "print(sum)"
   ]
  },
  {
   "cell_type": "code",
   "execution_count": 42,
   "metadata": {},
   "outputs": [
    {
     "data": {
      "text/plain": [
       "array([-1., -1., -1., ..., -1.,  1., -1.])"
      ]
     },
     "execution_count": 42,
     "metadata": {},
     "output_type": "execute_result"
    }
   ],
   "source": [
    "train.Y"
   ]
  },
  {
   "cell_type": "code",
   "execution_count": 58,
   "metadata": {},
   "outputs": [
    {
     "name": "stdout",
     "output_type": "stream",
     "text": [
      "  (0, 4)\t5\n",
      "  (0, 9)\t2\n",
      "  (0, 12)\t8\n",
      "  (0, 14)\t16\n",
      "  (0, 16)\t12\n",
      "  (0, 17)\t1\n",
      "  (0, 20)\t3\n",
      "  (0, 21)\t8\n",
      "  (0, 22)\t2\n",
      "  (0, 23)\t15\n",
      "  (0, 30)\t5\n",
      "  (0, 31)\t12\n",
      "  (0, 33)\t15\n",
      "  (0, 35)\t3\n",
      "  (0, 36)\t7\n",
      "  (0, 40)\t32\n",
      "  (0, 43)\t1\n",
      "  (0, 46)\t4\n",
      "  (0, 48)\t1\n",
      "  (0, 50)\t14\n",
      "  (0, 60)\t1\n",
      "  (0, 68)\t4\n",
      "  (0, 72)\t1\n",
      "  (0, 75)\t18\n",
      "  (0, 82)\t7\n",
      "  :\t:\n",
      "  (3610, 1671)\t1\n",
      "  (3610, 1950)\t1\n",
      "  (3610, 2222)\t1\n",
      "  (3610, 2255)\t1\n",
      "  (3610, 2298)\t2\n",
      "  (3610, 2517)\t3\n",
      "  (3610, 2610)\t1\n",
      "  (3610, 2661)\t1\n",
      "  (3610, 2988)\t1\n",
      "  (3610, 4374)\t1\n",
      "  (3610, 4458)\t1\n",
      "  (3610, 5758)\t1\n",
      "  (3610, 6782)\t1\n",
      "  (3610, 7162)\t2\n",
      "  (3610, 7480)\t1\n",
      "  (3610, 8454)\t2\n",
      "  (3610, 8563)\t1\n",
      "  (3610, 8606)\t2\n",
      "  (3610, 10717)\t1\n",
      "  (3610, 13950)\t1\n",
      "  (3610, 15308)\t1\n",
      "  (3610, 21104)\t1\n",
      "  (3610, 30866)\t1\n",
      "  (3610, 40271)\t1\n",
      "  (3610, 48694)\t1\n"
     ]
    }
   ],
   "source": [
    "print(train.X[train.Y == -1,:])"
   ]
  },
  {
   "cell_type": "code",
   "execution_count": 61,
   "metadata": {},
   "outputs": [
    {
     "data": {
      "text/plain": [
       "array([  83,  493, 6948, ...,    1,    1,    1], dtype=int64)"
      ]
     },
     "execution_count": 61,
     "metadata": {},
     "output_type": "execute_result"
    }
   ],
   "source": [
    "word_counts = np.array(train.X[train.Y == -1,:].sum(axis=0)).flatten()\n",
    "word_counts"
   ]
  },
  {
   "cell_type": "code",
   "execution_count": 62,
   "metadata": {},
   "outputs": [
    {
     "data": {
      "text/plain": [
       "[40, 50, 75, 23, 82, 33, 14, 234, 231, 233]"
      ]
     },
     "execution_count": 62,
     "metadata": {},
     "output_type": "execute_result"
    }
   ],
   "source": [
    "sorted_words = list(reversed(np.argsort(word_counts)))\n",
    "sorted_words[0:10]"
   ]
  },
  {
   "cell_type": "code",
   "execution_count": 45,
   "metadata": {},
   "outputs": [
    {
     "data": {
      "text/plain": [
       "40"
      ]
     },
     "execution_count": 45,
     "metadata": {},
     "output_type": "execute_result"
    }
   ],
   "source": [
    "sorted_words[0]"
   ]
  },
  {
   "cell_type": "code",
   "execution_count": 64,
   "metadata": {},
   "outputs": [
    {
     "data": {
      "text/plain": [
       "'.'"
      ]
     },
     "execution_count": 64,
     "metadata": {},
     "output_type": "execute_result"
    }
   ],
   "source": [
    "train.vocab.GetWord(sorted_words[1])"
   ]
  },
  {
   "cell_type": "code",
   "execution_count": 14,
   "metadata": {},
   "outputs": [
    {
     "data": {
      "text/plain": [
       "['the', ',', '.', 'a', 'and', 'to', 'of', '>', '<', '/']"
      ]
     },
     "execution_count": 14,
     "metadata": {},
     "output_type": "execute_result"
    }
   ],
   "source": [
    "[train.vocab.GetWord(sorted_words[x]) for x in range(10)]"
   ]
  },
  {
   "cell_type": "code",
   "execution_count": 15,
   "metadata": {
    "collapsed": true
   },
   "outputs": [],
   "source": [
    "x = range(10)"
   ]
  },
  {
   "cell_type": "code",
   "execution_count": 16,
   "metadata": {},
   "outputs": [
    {
     "data": {
      "text/plain": [
       "[0, 1, 2, 3, 4, 5, 6, 7, 8, 9]"
      ]
     },
     "execution_count": 16,
     "metadata": {},
     "output_type": "execute_result"
    }
   ],
   "source": [
    "list(x)"
   ]
  },
  {
   "cell_type": "code",
   "execution_count": 17,
   "metadata": {},
   "outputs": [
    {
     "data": {
      "text/plain": [
       "[1, 2, 3, 4, 5, 6, 7, 8, 9, 10]"
      ]
     },
     "execution_count": 17,
     "metadata": {},
     "output_type": "execute_result"
    }
   ],
   "source": [
    "[a + 1 for a in x]"
   ]
  },
  {
   "cell_type": "code",
   "execution_count": null,
   "metadata": {
    "collapsed": true
   },
   "outputs": [],
   "source": []
  },
  {
   "cell_type": "code",
   "execution_count": null,
   "metadata": {
    "collapsed": true
   },
   "outputs": [],
   "source": []
  }
 ],
 "metadata": {
  "anaconda-cloud": {},
  "kernelspec": {
   "display_name": "Python 3",
   "language": "python",
   "name": "python3"
  },
  "language_info": {
   "codemirror_mode": {
    "name": "ipython",
    "version": 3
   },
   "file_extension": ".py",
   "mimetype": "text/x-python",
   "name": "python",
   "nbconvert_exporter": "python",
   "pygments_lexer": "ipython3",
   "version": "3.6.3"
  }
 },
 "nbformat": 4,
 "nbformat_minor": 1
}
